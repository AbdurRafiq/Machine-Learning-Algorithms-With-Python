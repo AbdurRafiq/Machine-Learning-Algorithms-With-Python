{
  "nbformat": 4,
  "nbformat_minor": 0,
  "metadata": {
    "kernelspec": {
      "display_name": "Python 3",
      "language": "python",
      "name": "python3"
    },
    "language_info": {
      "codemirror_mode": {
        "name": "ipython",
        "version": 3
      },
      "file_extension": ".py",
      "mimetype": "text/x-python",
      "name": "python",
      "nbconvert_exporter": "python",
      "pygments_lexer": "ipython3",
      "version": "3.6.5"
    },
    "colab": {
      "name": "LogisticRegression Heart_disease.ipynb",
      "provenance": [],
      "include_colab_link": true
    }
  },
  "cells": [
    {
      "cell_type": "markdown",
      "metadata": {
        "id": "view-in-github",
        "colab_type": "text"
      },
      "source": [
        "<a href=\"https://colab.research.google.com/github/AbdurRafiq/Machine-Learning-Algorithms-With-Python/blob/master/LogisticRegression_Heart_disease.ipynb\" target=\"_parent\"><img src=\"https://colab.research.google.com/assets/colab-badge.svg\" alt=\"Open In Colab\"/></a>"
      ]
    },
    {
      "cell_type": "code",
      "metadata": {
        "id": "FTor-JXX0Cmi",
        "colab_type": "code",
        "colab": {}
      },
      "source": [
        "import pandas as pd\n",
        "import numpy as np\n",
        "import matplotlib.pyplot as plt\n",
        "\n",
        "%matplotlib inline"
      ],
      "execution_count": 0,
      "outputs": []
    },
    {
      "cell_type": "code",
      "metadata": {
        "id": "GOOsGeSz0Cmp",
        "colab_type": "code",
        "colab": {
          "base_uri": "https://localhost:8080/",
          "height": 204
        },
        "outputId": "7c0437c5-4f51-4db8-cc26-981b71545fba"
      },
      "source": [
        "df = pd.read_csv(\"/content/framingham.csv\")\n",
        "df.head()"
      ],
      "execution_count": 6,
      "outputs": [
        {
          "output_type": "execute_result",
          "data": {
            "text/html": [
              "<div>\n",
              "<style scoped>\n",
              "    .dataframe tbody tr th:only-of-type {\n",
              "        vertical-align: middle;\n",
              "    }\n",
              "\n",
              "    .dataframe tbody tr th {\n",
              "        vertical-align: top;\n",
              "    }\n",
              "\n",
              "    .dataframe thead th {\n",
              "        text-align: right;\n",
              "    }\n",
              "</style>\n",
              "<table border=\"1\" class=\"dataframe\">\n",
              "  <thead>\n",
              "    <tr style=\"text-align: right;\">\n",
              "      <th></th>\n",
              "      <th>male</th>\n",
              "      <th>age</th>\n",
              "      <th>education</th>\n",
              "      <th>currentSmoker</th>\n",
              "      <th>cigsPerDay</th>\n",
              "      <th>BPMeds</th>\n",
              "      <th>prevalentStroke</th>\n",
              "      <th>prevalentHyp</th>\n",
              "      <th>diabetes</th>\n",
              "      <th>totChol</th>\n",
              "      <th>sysBP</th>\n",
              "      <th>diaBP</th>\n",
              "      <th>BMI</th>\n",
              "      <th>heartRate</th>\n",
              "      <th>glucose</th>\n",
              "      <th>TenYearCHD</th>\n",
              "    </tr>\n",
              "  </thead>\n",
              "  <tbody>\n",
              "    <tr>\n",
              "      <th>0</th>\n",
              "      <td>1</td>\n",
              "      <td>39</td>\n",
              "      <td>4.0</td>\n",
              "      <td>0</td>\n",
              "      <td>0.0</td>\n",
              "      <td>0.0</td>\n",
              "      <td>0</td>\n",
              "      <td>0</td>\n",
              "      <td>0</td>\n",
              "      <td>195.0</td>\n",
              "      <td>106.0</td>\n",
              "      <td>70.0</td>\n",
              "      <td>26.97</td>\n",
              "      <td>80.0</td>\n",
              "      <td>77.0</td>\n",
              "      <td>0</td>\n",
              "    </tr>\n",
              "    <tr>\n",
              "      <th>1</th>\n",
              "      <td>0</td>\n",
              "      <td>46</td>\n",
              "      <td>2.0</td>\n",
              "      <td>0</td>\n",
              "      <td>0.0</td>\n",
              "      <td>0.0</td>\n",
              "      <td>0</td>\n",
              "      <td>0</td>\n",
              "      <td>0</td>\n",
              "      <td>250.0</td>\n",
              "      <td>121.0</td>\n",
              "      <td>81.0</td>\n",
              "      <td>28.73</td>\n",
              "      <td>95.0</td>\n",
              "      <td>76.0</td>\n",
              "      <td>0</td>\n",
              "    </tr>\n",
              "    <tr>\n",
              "      <th>2</th>\n",
              "      <td>1</td>\n",
              "      <td>48</td>\n",
              "      <td>1.0</td>\n",
              "      <td>1</td>\n",
              "      <td>20.0</td>\n",
              "      <td>0.0</td>\n",
              "      <td>0</td>\n",
              "      <td>0</td>\n",
              "      <td>0</td>\n",
              "      <td>245.0</td>\n",
              "      <td>127.5</td>\n",
              "      <td>80.0</td>\n",
              "      <td>25.34</td>\n",
              "      <td>75.0</td>\n",
              "      <td>70.0</td>\n",
              "      <td>0</td>\n",
              "    </tr>\n",
              "    <tr>\n",
              "      <th>3</th>\n",
              "      <td>0</td>\n",
              "      <td>61</td>\n",
              "      <td>3.0</td>\n",
              "      <td>1</td>\n",
              "      <td>30.0</td>\n",
              "      <td>0.0</td>\n",
              "      <td>0</td>\n",
              "      <td>1</td>\n",
              "      <td>0</td>\n",
              "      <td>225.0</td>\n",
              "      <td>150.0</td>\n",
              "      <td>95.0</td>\n",
              "      <td>28.58</td>\n",
              "      <td>65.0</td>\n",
              "      <td>103.0</td>\n",
              "      <td>1</td>\n",
              "    </tr>\n",
              "    <tr>\n",
              "      <th>4</th>\n",
              "      <td>0</td>\n",
              "      <td>46</td>\n",
              "      <td>3.0</td>\n",
              "      <td>1</td>\n",
              "      <td>23.0</td>\n",
              "      <td>0.0</td>\n",
              "      <td>0</td>\n",
              "      <td>0</td>\n",
              "      <td>0</td>\n",
              "      <td>285.0</td>\n",
              "      <td>130.0</td>\n",
              "      <td>84.0</td>\n",
              "      <td>23.10</td>\n",
              "      <td>85.0</td>\n",
              "      <td>85.0</td>\n",
              "      <td>0</td>\n",
              "    </tr>\n",
              "  </tbody>\n",
              "</table>\n",
              "</div>"
            ],
            "text/plain": [
              "   male  age  education  currentSmoker  ...    BMI  heartRate  glucose  TenYearCHD\n",
              "0     1   39        4.0              0  ...  26.97       80.0     77.0           0\n",
              "1     0   46        2.0              0  ...  28.73       95.0     76.0           0\n",
              "2     1   48        1.0              1  ...  25.34       75.0     70.0           0\n",
              "3     0   61        3.0              1  ...  28.58       65.0    103.0           1\n",
              "4     0   46        3.0              1  ...  23.10       85.0     85.0           0\n",
              "\n",
              "[5 rows x 16 columns]"
            ]
          },
          "metadata": {
            "tags": []
          },
          "execution_count": 6
        }
      ]
    },
    {
      "cell_type": "code",
      "metadata": {
        "id": "0KDe56b40Cmv",
        "colab_type": "code",
        "colab": {
          "base_uri": "https://localhost:8080/",
          "height": 565
        },
        "outputId": "4db65488-5548-49e5-810b-b2488adefb7b"
      },
      "source": [
        "df.corr()"
      ],
      "execution_count": 7,
      "outputs": [
        {
          "output_type": "execute_result",
          "data": {
            "text/html": [
              "<div>\n",
              "<style scoped>\n",
              "    .dataframe tbody tr th:only-of-type {\n",
              "        vertical-align: middle;\n",
              "    }\n",
              "\n",
              "    .dataframe tbody tr th {\n",
              "        vertical-align: top;\n",
              "    }\n",
              "\n",
              "    .dataframe thead th {\n",
              "        text-align: right;\n",
              "    }\n",
              "</style>\n",
              "<table border=\"1\" class=\"dataframe\">\n",
              "  <thead>\n",
              "    <tr style=\"text-align: right;\">\n",
              "      <th></th>\n",
              "      <th>male</th>\n",
              "      <th>age</th>\n",
              "      <th>education</th>\n",
              "      <th>currentSmoker</th>\n",
              "      <th>cigsPerDay</th>\n",
              "      <th>BPMeds</th>\n",
              "      <th>prevalentStroke</th>\n",
              "      <th>prevalentHyp</th>\n",
              "      <th>diabetes</th>\n",
              "      <th>totChol</th>\n",
              "      <th>sysBP</th>\n",
              "      <th>diaBP</th>\n",
              "      <th>BMI</th>\n",
              "      <th>heartRate</th>\n",
              "      <th>glucose</th>\n",
              "      <th>TenYearCHD</th>\n",
              "    </tr>\n",
              "  </thead>\n",
              "  <tbody>\n",
              "    <tr>\n",
              "      <th>male</th>\n",
              "      <td>1.000000</td>\n",
              "      <td>-0.028979</td>\n",
              "      <td>0.017352</td>\n",
              "      <td>0.197596</td>\n",
              "      <td>0.317930</td>\n",
              "      <td>-0.052506</td>\n",
              "      <td>-0.004546</td>\n",
              "      <td>0.005313</td>\n",
              "      <td>0.015708</td>\n",
              "      <td>-0.070322</td>\n",
              "      <td>-0.035989</td>\n",
              "      <td>0.057933</td>\n",
              "      <td>0.081672</td>\n",
              "      <td>-0.116620</td>\n",
              "      <td>0.006083</td>\n",
              "      <td>0.088428</td>\n",
              "    </tr>\n",
              "    <tr>\n",
              "      <th>age</th>\n",
              "      <td>-0.028979</td>\n",
              "      <td>1.000000</td>\n",
              "      <td>-0.165883</td>\n",
              "      <td>-0.213748</td>\n",
              "      <td>-0.192791</td>\n",
              "      <td>0.122995</td>\n",
              "      <td>0.057655</td>\n",
              "      <td>0.307194</td>\n",
              "      <td>0.101258</td>\n",
              "      <td>0.262131</td>\n",
              "      <td>0.394302</td>\n",
              "      <td>0.206104</td>\n",
              "      <td>0.135800</td>\n",
              "      <td>-0.012823</td>\n",
              "      <td>0.122256</td>\n",
              "      <td>0.225256</td>\n",
              "    </tr>\n",
              "    <tr>\n",
              "      <th>education</th>\n",
              "      <td>0.017352</td>\n",
              "      <td>-0.165883</td>\n",
              "      <td>1.000000</td>\n",
              "      <td>0.018532</td>\n",
              "      <td>0.008085</td>\n",
              "      <td>-0.010815</td>\n",
              "      <td>-0.035112</td>\n",
              "      <td>-0.081970</td>\n",
              "      <td>-0.038680</td>\n",
              "      <td>-0.023115</td>\n",
              "      <td>-0.129631</td>\n",
              "      <td>-0.062316</td>\n",
              "      <td>-0.137504</td>\n",
              "      <td>-0.054206</td>\n",
              "      <td>-0.035721</td>\n",
              "      <td>-0.054059</td>\n",
              "    </tr>\n",
              "    <tr>\n",
              "      <th>currentSmoker</th>\n",
              "      <td>0.197596</td>\n",
              "      <td>-0.213748</td>\n",
              "      <td>0.018532</td>\n",
              "      <td>1.000000</td>\n",
              "      <td>0.769690</td>\n",
              "      <td>-0.048938</td>\n",
              "      <td>-0.032988</td>\n",
              "      <td>-0.103260</td>\n",
              "      <td>-0.044295</td>\n",
              "      <td>-0.046562</td>\n",
              "      <td>-0.130230</td>\n",
              "      <td>-0.107746</td>\n",
              "      <td>-0.167650</td>\n",
              "      <td>0.062356</td>\n",
              "      <td>-0.056826</td>\n",
              "      <td>0.019456</td>\n",
              "    </tr>\n",
              "    <tr>\n",
              "      <th>cigsPerDay</th>\n",
              "      <td>0.317930</td>\n",
              "      <td>-0.192791</td>\n",
              "      <td>0.008085</td>\n",
              "      <td>0.769690</td>\n",
              "      <td>1.000000</td>\n",
              "      <td>-0.046134</td>\n",
              "      <td>-0.032707</td>\n",
              "      <td>-0.066146</td>\n",
              "      <td>-0.037067</td>\n",
              "      <td>-0.026320</td>\n",
              "      <td>-0.088780</td>\n",
              "      <td>-0.056632</td>\n",
              "      <td>-0.092856</td>\n",
              "      <td>0.075157</td>\n",
              "      <td>-0.058960</td>\n",
              "      <td>0.057884</td>\n",
              "    </tr>\n",
              "    <tr>\n",
              "      <th>BPMeds</th>\n",
              "      <td>-0.052506</td>\n",
              "      <td>0.122995</td>\n",
              "      <td>-0.010815</td>\n",
              "      <td>-0.048938</td>\n",
              "      <td>-0.046134</td>\n",
              "      <td>1.000000</td>\n",
              "      <td>0.117365</td>\n",
              "      <td>0.261187</td>\n",
              "      <td>0.052047</td>\n",
              "      <td>0.080558</td>\n",
              "      <td>0.254219</td>\n",
              "      <td>0.194227</td>\n",
              "      <td>0.100668</td>\n",
              "      <td>0.015233</td>\n",
              "      <td>0.051176</td>\n",
              "      <td>0.087489</td>\n",
              "    </tr>\n",
              "    <tr>\n",
              "      <th>prevalentStroke</th>\n",
              "      <td>-0.004546</td>\n",
              "      <td>0.057655</td>\n",
              "      <td>-0.035112</td>\n",
              "      <td>-0.032988</td>\n",
              "      <td>-0.032707</td>\n",
              "      <td>0.117365</td>\n",
              "      <td>1.000000</td>\n",
              "      <td>0.074830</td>\n",
              "      <td>0.006949</td>\n",
              "      <td>0.000067</td>\n",
              "      <td>0.057009</td>\n",
              "      <td>0.045190</td>\n",
              "      <td>0.025891</td>\n",
              "      <td>-0.017676</td>\n",
              "      <td>0.018431</td>\n",
              "      <td>0.061810</td>\n",
              "    </tr>\n",
              "    <tr>\n",
              "      <th>prevalentHyp</th>\n",
              "      <td>0.005313</td>\n",
              "      <td>0.307194</td>\n",
              "      <td>-0.081970</td>\n",
              "      <td>-0.103260</td>\n",
              "      <td>-0.066146</td>\n",
              "      <td>0.261187</td>\n",
              "      <td>0.074830</td>\n",
              "      <td>1.000000</td>\n",
              "      <td>0.077808</td>\n",
              "      <td>0.163993</td>\n",
              "      <td>0.696755</td>\n",
              "      <td>0.615751</td>\n",
              "      <td>0.301318</td>\n",
              "      <td>0.147261</td>\n",
              "      <td>0.086834</td>\n",
              "      <td>0.177603</td>\n",
              "    </tr>\n",
              "    <tr>\n",
              "      <th>diabetes</th>\n",
              "      <td>0.015708</td>\n",
              "      <td>0.101258</td>\n",
              "      <td>-0.038680</td>\n",
              "      <td>-0.044295</td>\n",
              "      <td>-0.037067</td>\n",
              "      <td>0.052047</td>\n",
              "      <td>0.006949</td>\n",
              "      <td>0.077808</td>\n",
              "      <td>1.000000</td>\n",
              "      <td>0.040278</td>\n",
              "      <td>0.111283</td>\n",
              "      <td>0.050329</td>\n",
              "      <td>0.087036</td>\n",
              "      <td>0.048994</td>\n",
              "      <td>0.617627</td>\n",
              "      <td>0.097317</td>\n",
              "    </tr>\n",
              "    <tr>\n",
              "      <th>totChol</th>\n",
              "      <td>-0.070322</td>\n",
              "      <td>0.262131</td>\n",
              "      <td>-0.023115</td>\n",
              "      <td>-0.046562</td>\n",
              "      <td>-0.026320</td>\n",
              "      <td>0.080558</td>\n",
              "      <td>0.000067</td>\n",
              "      <td>0.163993</td>\n",
              "      <td>0.040278</td>\n",
              "      <td>1.000000</td>\n",
              "      <td>0.208908</td>\n",
              "      <td>0.165182</td>\n",
              "      <td>0.115767</td>\n",
              "      <td>0.091125</td>\n",
              "      <td>0.046408</td>\n",
              "      <td>0.082184</td>\n",
              "    </tr>\n",
              "    <tr>\n",
              "      <th>sysBP</th>\n",
              "      <td>-0.035989</td>\n",
              "      <td>0.394302</td>\n",
              "      <td>-0.129631</td>\n",
              "      <td>-0.130230</td>\n",
              "      <td>-0.088780</td>\n",
              "      <td>0.254219</td>\n",
              "      <td>0.057009</td>\n",
              "      <td>0.696755</td>\n",
              "      <td>0.111283</td>\n",
              "      <td>0.208908</td>\n",
              "      <td>1.000000</td>\n",
              "      <td>0.784002</td>\n",
              "      <td>0.326981</td>\n",
              "      <td>0.182246</td>\n",
              "      <td>0.140621</td>\n",
              "      <td>0.216429</td>\n",
              "    </tr>\n",
              "    <tr>\n",
              "      <th>diaBP</th>\n",
              "      <td>0.057933</td>\n",
              "      <td>0.206104</td>\n",
              "      <td>-0.062316</td>\n",
              "      <td>-0.107746</td>\n",
              "      <td>-0.056632</td>\n",
              "      <td>0.194227</td>\n",
              "      <td>0.045190</td>\n",
              "      <td>0.615751</td>\n",
              "      <td>0.050329</td>\n",
              "      <td>0.165182</td>\n",
              "      <td>0.784002</td>\n",
              "      <td>1.000000</td>\n",
              "      <td>0.377588</td>\n",
              "      <td>0.181255</td>\n",
              "      <td>0.061231</td>\n",
              "      <td>0.145299</td>\n",
              "    </tr>\n",
              "    <tr>\n",
              "      <th>BMI</th>\n",
              "      <td>0.081672</td>\n",
              "      <td>0.135800</td>\n",
              "      <td>-0.137504</td>\n",
              "      <td>-0.167650</td>\n",
              "      <td>-0.092856</td>\n",
              "      <td>0.100668</td>\n",
              "      <td>0.025891</td>\n",
              "      <td>0.301318</td>\n",
              "      <td>0.087036</td>\n",
              "      <td>0.115767</td>\n",
              "      <td>0.326981</td>\n",
              "      <td>0.377588</td>\n",
              "      <td>1.000000</td>\n",
              "      <td>0.067678</td>\n",
              "      <td>0.087377</td>\n",
              "      <td>0.075192</td>\n",
              "    </tr>\n",
              "    <tr>\n",
              "      <th>heartRate</th>\n",
              "      <td>-0.116620</td>\n",
              "      <td>-0.012823</td>\n",
              "      <td>-0.054206</td>\n",
              "      <td>0.062356</td>\n",
              "      <td>0.075157</td>\n",
              "      <td>0.015233</td>\n",
              "      <td>-0.017676</td>\n",
              "      <td>0.147261</td>\n",
              "      <td>0.048994</td>\n",
              "      <td>0.091125</td>\n",
              "      <td>0.182246</td>\n",
              "      <td>0.181255</td>\n",
              "      <td>0.067678</td>\n",
              "      <td>1.000000</td>\n",
              "      <td>0.094500</td>\n",
              "      <td>0.022913</td>\n",
              "    </tr>\n",
              "    <tr>\n",
              "      <th>glucose</th>\n",
              "      <td>0.006083</td>\n",
              "      <td>0.122256</td>\n",
              "      <td>-0.035721</td>\n",
              "      <td>-0.056826</td>\n",
              "      <td>-0.058960</td>\n",
              "      <td>0.051176</td>\n",
              "      <td>0.018431</td>\n",
              "      <td>0.086834</td>\n",
              "      <td>0.617627</td>\n",
              "      <td>0.046408</td>\n",
              "      <td>0.140621</td>\n",
              "      <td>0.061231</td>\n",
              "      <td>0.087377</td>\n",
              "      <td>0.094500</td>\n",
              "      <td>1.000000</td>\n",
              "      <td>0.125544</td>\n",
              "    </tr>\n",
              "    <tr>\n",
              "      <th>TenYearCHD</th>\n",
              "      <td>0.088428</td>\n",
              "      <td>0.225256</td>\n",
              "      <td>-0.054059</td>\n",
              "      <td>0.019456</td>\n",
              "      <td>0.057884</td>\n",
              "      <td>0.087489</td>\n",
              "      <td>0.061810</td>\n",
              "      <td>0.177603</td>\n",
              "      <td>0.097317</td>\n",
              "      <td>0.082184</td>\n",
              "      <td>0.216429</td>\n",
              "      <td>0.145299</td>\n",
              "      <td>0.075192</td>\n",
              "      <td>0.022913</td>\n",
              "      <td>0.125544</td>\n",
              "      <td>1.000000</td>\n",
              "    </tr>\n",
              "  </tbody>\n",
              "</table>\n",
              "</div>"
            ],
            "text/plain": [
              "                     male       age  education  ...  heartRate   glucose  TenYearCHD\n",
              "male             1.000000 -0.028979   0.017352  ...  -0.116620  0.006083    0.088428\n",
              "age             -0.028979  1.000000  -0.165883  ...  -0.012823  0.122256    0.225256\n",
              "education        0.017352 -0.165883   1.000000  ...  -0.054206 -0.035721   -0.054059\n",
              "currentSmoker    0.197596 -0.213748   0.018532  ...   0.062356 -0.056826    0.019456\n",
              "cigsPerDay       0.317930 -0.192791   0.008085  ...   0.075157 -0.058960    0.057884\n",
              "BPMeds          -0.052506  0.122995  -0.010815  ...   0.015233  0.051176    0.087489\n",
              "prevalentStroke -0.004546  0.057655  -0.035112  ...  -0.017676  0.018431    0.061810\n",
              "prevalentHyp     0.005313  0.307194  -0.081970  ...   0.147261  0.086834    0.177603\n",
              "diabetes         0.015708  0.101258  -0.038680  ...   0.048994  0.617627    0.097317\n",
              "totChol         -0.070322  0.262131  -0.023115  ...   0.091125  0.046408    0.082184\n",
              "sysBP           -0.035989  0.394302  -0.129631  ...   0.182246  0.140621    0.216429\n",
              "diaBP            0.057933  0.206104  -0.062316  ...   0.181255  0.061231    0.145299\n",
              "BMI              0.081672  0.135800  -0.137504  ...   0.067678  0.087377    0.075192\n",
              "heartRate       -0.116620 -0.012823  -0.054206  ...   1.000000  0.094500    0.022913\n",
              "glucose          0.006083  0.122256  -0.035721  ...   0.094500  1.000000    0.125544\n",
              "TenYearCHD       0.088428  0.225256  -0.054059  ...   0.022913  0.125544    1.000000\n",
              "\n",
              "[16 rows x 16 columns]"
            ]
          },
          "metadata": {
            "tags": []
          },
          "execution_count": 7
        }
      ]
    },
    {
      "cell_type": "code",
      "metadata": {
        "id": "H6UHE4r60Cmz",
        "colab_type": "code",
        "colab": {
          "base_uri": "https://localhost:8080/",
          "height": 71
        },
        "outputId": "2cfe2427-593b-4349-8d12-48fd815c6984"
      },
      "source": [
        "import seaborn as sns"
      ],
      "execution_count": 8,
      "outputs": [
        {
          "output_type": "stream",
          "text": [
            "/usr/local/lib/python3.6/dist-packages/statsmodels/tools/_testing.py:19: FutureWarning: pandas.util.testing is deprecated. Use the functions in the public API at pandas.testing instead.\n",
            "  import pandas.util.testing as tm\n"
          ],
          "name": "stderr"
        }
      ]
    },
    {
      "cell_type": "code",
      "metadata": {
        "id": "9dcZcXCh0Cm4",
        "colab_type": "code",
        "colab": {
          "base_uri": "https://localhost:8080/",
          "height": 85
        },
        "outputId": "5307a126-5294-499d-ecfe-2f19377d77a6"
      },
      "source": [
        "df.columns"
      ],
      "execution_count": 9,
      "outputs": [
        {
          "output_type": "execute_result",
          "data": {
            "text/plain": [
              "Index(['male', 'age', 'education', 'currentSmoker', 'cigsPerDay', 'BPMeds',\n",
              "       'prevalentStroke', 'prevalentHyp', 'diabetes', 'totChol', 'sysBP',\n",
              "       'diaBP', 'BMI', 'heartRate', 'glucose', 'TenYearCHD'],\n",
              "      dtype='object')"
            ]
          },
          "metadata": {
            "tags": []
          },
          "execution_count": 9
        }
      ]
    },
    {
      "cell_type": "code",
      "metadata": {
        "id": "BqDl8SDa0Cm-",
        "colab_type": "code",
        "colab": {
          "base_uri": "https://localhost:8080/",
          "height": 369
        },
        "outputId": "c2fd40ee-c90d-4636-f11f-5688f69c6113"
      },
      "source": [
        "sns.lmplot(x=\"male\",y=\"currentSmoker\",data=df);"
      ],
      "execution_count": 10,
      "outputs": [
        {
          "output_type": "display_data",
          "data": {
            "image/png": "[encoded data removed]",
            "text/plain": [
              "<Figure size 360x360 with 1 Axes>"
            ]
          },
          "metadata": {
            "tags": [],
            "needs_background": "light"
          }
        }
      ]
    },
    {
      "cell_type": "code",
      "metadata": {
        "id": "K51twtkU0CnB",
        "colab_type": "code",
        "colab": {
          "base_uri": "https://localhost:8080/",
          "height": 306
        },
        "outputId": "9d4c087f-856b-4af0-c7c7-3dbbbecc9a3e"
      },
      "source": [
        "df.isnull().sum()"
      ],
      "execution_count": 11,
      "outputs": [
        {
          "output_type": "execute_result",
          "data": {
            "text/plain": [
              "male                 0\n",
              "age                  0\n",
              "education          105\n",
              "currentSmoker        0\n",
              "cigsPerDay          29\n",
              "BPMeds              53\n",
              "prevalentStroke      0\n",
              "prevalentHyp         0\n",
              "diabetes             0\n",
              "totChol             50\n",
              "sysBP                0\n",
              "diaBP                0\n",
              "BMI                 19\n",
              "heartRate            1\n",
              "glucose            388\n",
              "TenYearCHD           0\n",
              "dtype: int64"
            ]
          },
          "metadata": {
            "tags": []
          },
          "execution_count": 11
        }
      ]
    },
    {
      "cell_type": "code",
      "metadata": {
        "id": "YdQXNFDv0CnF",
        "colab_type": "code",
        "colab": {
          "base_uri": "https://localhost:8080/",
          "height": 34
        },
        "outputId": "f5474879-49b0-43a3-824a-dfcbffcfa946"
      },
      "source": [
        "df.shape"
      ],
      "execution_count": 12,
      "outputs": [
        {
          "output_type": "execute_result",
          "data": {
            "text/plain": [
              "(4238, 16)"
            ]
          },
          "metadata": {
            "tags": []
          },
          "execution_count": 12
        }
      ]
    },
    {
      "cell_type": "code",
      "metadata": {
        "id": "3oX7IeoD0CnI",
        "colab_type": "code",
        "colab": {
          "base_uri": "https://localhost:8080/",
          "height": 306
        },
        "outputId": "02baea8e-eeda-48cf-d7f0-23b77c41cc13"
      },
      "source": [
        "df.isnull().sum()"
      ],
      "execution_count": 13,
      "outputs": [
        {
          "output_type": "execute_result",
          "data": {
            "text/plain": [
              "male                 0\n",
              "age                  0\n",
              "education          105\n",
              "currentSmoker        0\n",
              "cigsPerDay          29\n",
              "BPMeds              53\n",
              "prevalentStroke      0\n",
              "prevalentHyp         0\n",
              "diabetes             0\n",
              "totChol             50\n",
              "sysBP                0\n",
              "diaBP                0\n",
              "BMI                 19\n",
              "heartRate            1\n",
              "glucose            388\n",
              "TenYearCHD           0\n",
              "dtype: int64"
            ]
          },
          "metadata": {
            "tags": []
          },
          "execution_count": 13
        }
      ]
    },
    {
      "cell_type": "code",
      "metadata": {
        "id": "e4VUEXFg0CnO",
        "colab_type": "code",
        "colab": {}
      },
      "source": [
        "df['education'] = df['education'].fillna( df['education'].dropna().mode().values[0] )\n",
        "df['cigsPerDay'] = df['cigsPerDay'].fillna( df['cigsPerDay'].dropna().mode().values[0] )\n",
        "df['glucose'] = df['glucose'].fillna( df['glucose'].dropna().mode().values[0] )\n",
        "df['totChol'] = df['totChol'].fillna( df['totChol'].dropna().mode().values[0] )\n",
        "df['BMI'] = df['BMI'].fillna( df['BMI'].dropna().mode().values[0] )\n",
        "df['BPMeds'] = df['BPMeds'].fillna( df['BPMeds'].dropna().mode().values[0] )\n",
        "df['cigsPerDay'] = df['cigsPerDay'].fillna( df['cigsPerDay'].dropna().mode().values[0] )\n",
        "df['heartRate'] = df['heartRate'].fillna( df['heartRate'].dropna().mode().values[0] )"
      ],
      "execution_count": 0,
      "outputs": []
    },
    {
      "cell_type": "code",
      "metadata": {
        "id": "18B8PxrG0CnR",
        "colab_type": "code",
        "colab": {
          "base_uri": "https://localhost:8080/",
          "height": 306
        },
        "outputId": "befa7e6c-271b-417f-8c3f-176356f0a28c"
      },
      "source": [
        "df.isnull().sum()"
      ],
      "execution_count": 15,
      "outputs": [
        {
          "output_type": "execute_result",
          "data": {
            "text/plain": [
              "male               0\n",
              "age                0\n",
              "education          0\n",
              "currentSmoker      0\n",
              "cigsPerDay         0\n",
              "BPMeds             0\n",
              "prevalentStroke    0\n",
              "prevalentHyp       0\n",
              "diabetes           0\n",
              "totChol            0\n",
              "sysBP              0\n",
              "diaBP              0\n",
              "BMI                0\n",
              "heartRate          0\n",
              "glucose            0\n",
              "TenYearCHD         0\n",
              "dtype: int64"
            ]
          },
          "metadata": {
            "tags": []
          },
          "execution_count": 15
        }
      ]
    },
    {
      "cell_type": "code",
      "metadata": {
        "id": "Sj6Jiqrh0CnU",
        "colab_type": "code",
        "colab": {}
      },
      "source": [
        "graph_1 = df.groupby(\"education\", as_index=False).cigsPerDay.mean()"
      ],
      "execution_count": 0,
      "outputs": []
    },
    {
      "cell_type": "code",
      "metadata": {
        "id": "lGuQkC680Cnb",
        "colab_type": "code",
        "colab": {
          "base_uri": "https://localhost:8080/",
          "height": 559
        },
        "outputId": "7b02cf90-7f94-4eaa-da59-bc5a08e8289d"
      },
      "source": [
        "plt.figure(figsize=(12,8))\n",
        "sns.regplot(x=graph_1[\"education\"], y=graph_1[\"cigsPerDay\"])\n",
        "plt.title(\"Graph showing cigsPerDay in every level of education.\")\n",
        "plt.xlabel(\"education\", size=20)\n",
        "plt.ylabel(\"cigsPerDay\", size=20)\n",
        "plt.xticks(size=12)\n",
        "plt.yticks(size=12)"
      ],
      "execution_count": 17,
      "outputs": [
        {
          "output_type": "execute_result",
          "data": {
            "text/plain": [
              "(array([ 4.,  5.,  6.,  7.,  8.,  9., 10., 11., 12., 13.]),\n",
              " <a list of 10 Text major ticklabel objects>)"
            ]
          },
          "metadata": {
            "tags": []
          },
          "execution_count": 17
        },
        {
          "output_type": "display_data",
          "data": {
            "image/png": "[encoded data removed]",
            "text/plain": [
              "<Figure size 864x576 with 1 Axes>"
            ]
          },
          "metadata": {
            "tags": [],
            "needs_background": "light"
          }
        }
      ]
    },
    {
      "cell_type": "code",
      "metadata": {
        "id": "AElOrcLG0Cne",
        "colab_type": "code",
        "colab": {}
      },
      "source": [
        ""
      ],
      "execution_count": 0,
      "outputs": []
    },
    {
      "cell_type": "markdown",
      "metadata": {
        "id": "g4if_mA70Cnh",
        "colab_type": "text"
      },
      "source": [
        "# Which age group has more smokers"
      ]
    },
    {
      "cell_type": "code",
      "metadata": {
        "id": "ZPrzf76v0Cnh",
        "colab_type": "code",
        "colab": {
          "base_uri": "https://localhost:8080/",
          "height": 525
        },
        "outputId": "bf51e5c1-1059-4e7b-e055-bdc37daa4336"
      },
      "source": [
        "\n",
        "graph_7 = df.groupby(\"age\",as_index=False).currentSmoker.sum()\n",
        "\n",
        "plt.figure(figsize=(12,8))\n",
        "sns.barplot(x=graph_7[\"age\"], y=graph_7[\"currentSmoker\"])\n",
        "plt.title(\"Graph showing which age group has more smokers.\")\n",
        "plt.xlabel(\"age\", size=20)\n",
        "plt.ylabel(\"currentSmokers\", size=20)\n",
        "plt.xticks(size=12);\n",
        "plt.yticks(size=12);"
      ],
      "execution_count": 18,
      "outputs": [
        {
          "output_type": "display_data",
          "data": {
            "image/png": "[encoded data removed]",
            "text/plain": [
              "<Figure size 864x576 with 1 Axes>"
            ]
          },
          "metadata": {
            "tags": [],
            "needs_background": "light"
          }
        }
      ]
    },
    {
      "cell_type": "code",
      "metadata": {
        "id": "UgXH3vlB0Cnk",
        "colab_type": "code",
        "colab": {
          "base_uri": "https://localhost:8080/",
          "height": 85
        },
        "outputId": "9465780e-e5ac-454e-9687-7f12d7691e3c"
      },
      "source": [
        "df.columns"
      ],
      "execution_count": 19,
      "outputs": [
        {
          "output_type": "execute_result",
          "data": {
            "text/plain": [
              "Index(['male', 'age', 'education', 'currentSmoker', 'cigsPerDay', 'BPMeds',\n",
              "       'prevalentStroke', 'prevalentHyp', 'diabetes', 'totChol', 'sysBP',\n",
              "       'diaBP', 'BMI', 'heartRate', 'glucose', 'TenYearCHD'],\n",
              "      dtype='object')"
            ]
          },
          "metadata": {
            "tags": []
          },
          "execution_count": 19
        }
      ]
    },
    {
      "cell_type": "code",
      "metadata": {
        "id": "QLcG8h1u0Cnn",
        "colab_type": "code",
        "colab": {}
      },
      "source": [
        "X = df.drop(\"TenYearCHD\",axis = 1)\n",
        "\n",
        "y = df[\"TenYearCHD\"]"
      ],
      "execution_count": 0,
      "outputs": []
    },
    {
      "cell_type": "code",
      "metadata": {
        "id": "Qd6DwKaq0Cns",
        "colab_type": "code",
        "colab": {}
      },
      "source": [
        "from sklearn.model_selection import train_test_split\n",
        "X_train,X_test,y_train,y_test = train_test_split(X,y,test_size = 0.2)"
      ],
      "execution_count": 0,
      "outputs": []
    },
    {
      "cell_type": "code",
      "metadata": {
        "id": "DnQqWu5t0Cnw",
        "colab_type": "code",
        "colab": {}
      },
      "source": [
        "from sklearn.model_selection import cross_val_score\n",
        "\n",
        "from sklearn.linear_model import LogisticRegression\n",
        "\n",
        "# defining the model\n",
        "\n",
        "model = LogisticRegression(random_state=3, max_iter=100000)"
      ],
      "execution_count": 0,
      "outputs": []
    },
    {
      "cell_type": "code",
      "metadata": {
        "id": "1TgYor8r0Cnz",
        "colab_type": "code",
        "colab": {
          "base_uri": "https://localhost:8080/",
          "height": 102
        },
        "outputId": "08dde8a3-5af9-400c-8a37-3e54b6949add"
      },
      "source": [
        "\n",
        "model.fit(X_train, y_train)"
      ],
      "execution_count": 23,
      "outputs": [
        {
          "output_type": "execute_result",
          "data": {
            "text/plain": [
              "LogisticRegression(C=1.0, class_weight=None, dual=False, fit_intercept=True,\n",
              "                   intercept_scaling=1, l1_ratio=None, max_iter=100000,\n",
              "                   multi_class='auto', n_jobs=None, penalty='l2',\n",
              "                   random_state=3, solver='lbfgs', tol=0.0001, verbose=0,\n",
              "                   warm_start=False)"
            ]
          },
          "metadata": {
            "tags": []
          },
          "execution_count": 23
        }
      ]
    },
    {
      "cell_type": "code",
      "metadata": {
        "id": "Bjrs79sL0Cn3",
        "colab_type": "code",
        "colab": {
          "base_uri": "https://localhost:8080/",
          "height": 34
        },
        "outputId": "4f3f23f9-5b43-4050-84a8-88bf5c2af95b"
      },
      "source": [
        "model.score(X_test,y_test)"
      ],
      "execution_count": 24,
      "outputs": [
        {
          "output_type": "execute_result",
          "data": {
            "text/plain": [
              "0.8655660377358491"
            ]
          },
          "metadata": {
            "tags": []
          },
          "execution_count": 24
        }
      ]
    },
    {
      "cell_type": "code",
      "metadata": {
        "id": "Ezfijq470Cn6",
        "colab_type": "code",
        "colab": {
          "base_uri": "https://localhost:8080/",
          "height": 34
        },
        "outputId": "c3c6990c-4417-4719-bd21-ed8f8f2b4ba6"
      },
      "source": [
        "cross_val_score(model,X,y,cv = 5)"
      ],
      "execution_count": 25,
      "outputs": [
        {
          "output_type": "execute_result",
          "data": {
            "text/plain": [
              "array([0.85259434, 0.85377358, 0.85141509, 0.86068477, 0.85005903])"
            ]
          },
          "metadata": {
            "tags": []
          },
          "execution_count": 25
        }
      ]
    },
    {
      "cell_type": "code",
      "metadata": {
        "id": "n0J5Hl6f0Cn-",
        "colab_type": "code",
        "colab": {
          "base_uri": "https://localhost:8080/",
          "height": 34
        },
        "outputId": "387c6b2b-5cf1-4ce3-f04c-9cc33d2121a7"
      },
      "source": [
        "np.random.seed(42)\n",
        "\n",
        "# Single traing and test split score\n",
        "model_single_score = model.score(X_test,y_test)\n",
        "\n",
        "# Take the mean of 5 -flod cross-validation score\n",
        "\n",
        "model_cross_val_score = np.mean(cross_val_score(model,X,y,cv = 5))\n",
        "\n",
        "\n",
        "#compare the two \n",
        "\n",
        "model_single_score,model_cross_val_score"
      ],
      "execution_count": 27,
      "outputs": [
        {
          "output_type": "execute_result",
          "data": {
            "text/plain": [
              "(0.8655660377358491, 0.8537053641041634)"
            ]
          },
          "metadata": {
            "tags": []
          },
          "execution_count": 27
        }
      ]
    },
    {
      "cell_type": "code",
      "metadata": {
        "id": "ntEcCXfM0CoA",
        "colab_type": "code",
        "colab": {
          "base_uri": "https://localhost:8080/",
          "height": 680
        },
        "outputId": "b46e2a32-3c9f-4bd6-f48b-e08d0470763d"
      },
      "source": [
        "y_preds = model.predict(X_test)\n",
        "y_preds"
      ],
      "execution_count": 28,
      "outputs": [
        {
          "output_type": "execute_result",
          "data": {
            "text/plain": [
              "array([0, 0, 0, 0, 0, 0, 0, 0, 0, 0, 0, 0, 0, 0, 0, 0, 0, 0, 0, 0, 0, 0,\n",
              "       0, 0, 0, 0, 0, 0, 0, 0, 0, 0, 0, 0, 0, 0, 0, 0, 0, 0, 0, 0, 0, 0,\n",
              "       0, 0, 0, 0, 0, 0, 0, 0, 0, 0, 0, 0, 0, 0, 0, 0, 0, 0, 0, 0, 0, 0,\n",
              "       0, 0, 0, 0, 0, 0, 0, 0, 0, 0, 0, 0, 0, 0, 1, 0, 0, 0, 0, 0, 0, 0,\n",
              "       0, 0, 0, 0, 0, 0, 0, 0, 0, 0, 0, 0, 0, 0, 0, 0, 0, 0, 0, 0, 0, 0,\n",
              "       0, 0, 0, 0, 0, 0, 0, 0, 0, 0, 0, 0, 0, 0, 0, 1, 0, 0, 0, 0, 0, 0,\n",
              "       0, 0, 0, 0, 0, 0, 0, 0, 0, 0, 0, 0, 0, 0, 0, 0, 0, 0, 0, 1, 0, 0,\n",
              "       0, 0, 0, 0, 0, 0, 0, 0, 0, 0, 0, 0, 0, 0, 0, 0, 0, 0, 0, 0, 0, 0,\n",
              "       0, 0, 0, 0, 0, 0, 0, 0, 0, 0, 0, 0, 0, 0, 0, 0, 0, 0, 0, 1, 0, 0,\n",
              "       0, 0, 0, 0, 0, 0, 0, 0, 0, 0, 0, 0, 0, 0, 0, 0, 0, 1, 0, 0, 0, 0,\n",
              "       0, 0, 0, 0, 0, 0, 0, 0, 0, 0, 0, 0, 0, 0, 0, 0, 0, 0, 0, 0, 0, 0,\n",
              "       0, 0, 0, 0, 0, 0, 0, 0, 0, 0, 0, 0, 0, 0, 1, 0, 0, 0, 0, 0, 0, 0,\n",
              "       0, 0, 0, 0, 0, 0, 0, 0, 0, 0, 0, 0, 0, 0, 0, 0, 0, 0, 0, 0, 0, 0,\n",
              "       0, 0, 0, 0, 0, 0, 0, 0, 0, 0, 0, 0, 0, 0, 0, 0, 0, 0, 0, 0, 0, 0,\n",
              "       0, 0, 0, 0, 0, 0, 0, 0, 0, 0, 0, 0, 0, 0, 0, 0, 0, 0, 0, 0, 0, 0,\n",
              "       0, 0, 0, 0, 0, 0, 0, 0, 0, 0, 0, 0, 0, 0, 0, 0, 0, 0, 0, 0, 0, 0,\n",
              "       0, 0, 0, 0, 0, 0, 0, 0, 0, 0, 0, 0, 0, 0, 0, 0, 0, 0, 0, 0, 0, 0,\n",
              "       0, 0, 0, 0, 0, 0, 0, 0, 0, 0, 0, 0, 0, 0, 0, 0, 0, 0, 0, 0, 0, 0,\n",
              "       0, 0, 0, 0, 0, 1, 0, 0, 0, 0, 0, 0, 0, 0, 0, 0, 0, 0, 0, 0, 0, 0,\n",
              "       0, 0, 0, 0, 0, 0, 0, 0, 0, 0, 0, 0, 0, 0, 0, 0, 0, 0, 0, 0, 0, 0,\n",
              "       0, 0, 0, 0, 0, 0, 0, 0, 0, 0, 0, 0, 0, 0, 0, 0, 0, 0, 0, 0, 0, 0,\n",
              "       0, 0, 0, 0, 0, 0, 0, 0, 0, 0, 0, 0, 0, 0, 0, 0, 0, 0, 0, 0, 0, 0,\n",
              "       0, 0, 0, 0, 1, 0, 0, 0, 0, 0, 0, 0, 0, 0, 0, 0, 0, 0, 0, 0, 0, 0,\n",
              "       0, 0, 0, 0, 0, 0, 0, 0, 0, 0, 0, 0, 0, 0, 0, 0, 0, 0, 0, 0, 0, 0,\n",
              "       0, 0, 0, 0, 0, 0, 0, 0, 0, 0, 0, 0, 0, 0, 0, 0, 0, 0, 0, 0, 0, 0,\n",
              "       0, 0, 0, 0, 0, 0, 0, 0, 0, 0, 0, 0, 0, 0, 0, 0, 0, 0, 0, 0, 0, 0,\n",
              "       0, 0, 0, 0, 0, 0, 0, 0, 0, 0, 0, 0, 0, 0, 0, 0, 0, 0, 0, 0, 0, 0,\n",
              "       0, 0, 1, 0, 0, 0, 0, 0, 0, 0, 0, 0, 0, 0, 0, 0, 0, 0, 0, 0, 0, 0,\n",
              "       0, 0, 0, 0, 0, 0, 0, 0, 0, 0, 0, 0, 0, 0, 0, 0, 0, 0, 0, 0, 0, 0,\n",
              "       0, 0, 0, 0, 0, 0, 0, 0, 0, 0, 0, 0, 0, 0, 0, 0, 0, 0, 0, 0, 0, 0,\n",
              "       0, 0, 0, 0, 0, 0, 0, 0, 0, 0, 0, 0, 0, 0, 1, 0, 0, 0, 0, 0, 0, 1,\n",
              "       0, 0, 0, 0, 0, 0, 0, 0, 0, 0, 0, 0, 0, 0, 0, 0, 0, 0, 0, 0, 0, 0,\n",
              "       0, 0, 0, 0, 0, 0, 0, 0, 0, 0, 0, 0, 0, 0, 0, 0, 0, 0, 0, 0, 0, 0,\n",
              "       0, 0, 0, 0, 0, 0, 0, 0, 0, 0, 0, 0, 0, 0, 0, 0, 0, 0, 0, 0, 0, 0,\n",
              "       1, 0, 0, 0, 0, 0, 0, 0, 0, 0, 0, 0, 0, 0, 0, 0, 0, 0, 0, 0, 0, 0,\n",
              "       0, 0, 0, 0, 0, 0, 0, 0, 0, 0, 0, 0, 0, 0, 0, 0, 0, 0, 0, 0, 0, 0,\n",
              "       0, 0, 0, 0, 0, 0, 0, 0, 0, 0, 0, 0, 0, 0, 0, 0, 0, 0, 0, 0, 0, 0,\n",
              "       0, 0, 0, 0, 0, 0, 0, 0, 0, 0, 0, 0, 0, 0, 0, 0, 0, 0, 0, 0, 0, 0,\n",
              "       0, 0, 0, 0, 0, 0, 0, 0, 0, 0, 0, 0])"
            ]
          },
          "metadata": {
            "tags": []
          },
          "execution_count": 28
        }
      ]
    },
    {
      "cell_type": "code",
      "metadata": {
        "id": "I3h-mX400CoD",
        "colab_type": "code",
        "colab": {
          "base_uri": "https://localhost:8080/",
          "height": 374
        },
        "outputId": "bf20783e-ce94-4f17-f892-01829dd7151c"
      },
      "source": [
        "y_test.head(20)"
      ],
      "execution_count": 29,
      "outputs": [
        {
          "output_type": "execute_result",
          "data": {
            "text/plain": [
              "4191    0\n",
              "3015    0\n",
              "2305    0\n",
              "1221    0\n",
              "1028    1\n",
              "4137    0\n",
              "228     0\n",
              "3245    0\n",
              "218     0\n",
              "59      1\n",
              "2901    0\n",
              "4114    0\n",
              "4044    0\n",
              "2572    0\n",
              "752     1\n",
              "605     0\n",
              "2359    0\n",
              "3748    0\n",
              "3505    1\n",
              "86      0\n",
              "Name: TenYearCHD, dtype: int64"
            ]
          },
          "metadata": {
            "tags": []
          },
          "execution_count": 29
        }
      ]
    },
    {
      "cell_type": "markdown",
      "metadata": {
        "id": "2XZ45qNV0CoH",
        "colab_type": "text"
      },
      "source": [
        "# Evaluate the model"
      ]
    },
    {
      "cell_type": "code",
      "metadata": {
        "id": "nuvTQ5Ln0CoJ",
        "colab_type": "code",
        "colab": {
          "base_uri": "https://localhost:8080/",
          "height": 34
        },
        "outputId": "7b2e74b9-9c81-4616-e044-f7674e233650"
      },
      "source": [
        "model.score(X_train,y_train)"
      ],
      "execution_count": 30,
      "outputs": [
        {
          "output_type": "execute_result",
          "data": {
            "text/plain": [
              "0.8530973451327434"
            ]
          },
          "metadata": {
            "tags": []
          },
          "execution_count": 30
        }
      ]
    },
    {
      "cell_type": "code",
      "metadata": {
        "id": "OKs-o7hb0CoM",
        "colab_type": "code",
        "colab": {
          "base_uri": "https://localhost:8080/",
          "height": 34
        },
        "outputId": "856ac9e2-c2af-4926-84a3-93bd817f8f18"
      },
      "source": [
        "model.score(X_test,y_test)"
      ],
      "execution_count": 31,
      "outputs": [
        {
          "output_type": "execute_result",
          "data": {
            "text/plain": [
              "0.8655660377358491"
            ]
          },
          "metadata": {
            "tags": []
          },
          "execution_count": 31
        }
      ]
    },
    {
      "cell_type": "code",
      "metadata": {
        "id": "VP6hoUwn0CoR",
        "colab_type": "code",
        "colab": {
          "base_uri": "https://localhost:8080/",
          "height": 170
        },
        "outputId": "5f267e0e-9d6d-4e6b-872b-4dd982b1fffa"
      },
      "source": [
        "from sklearn.metrics import classification_report,confusion_matrix,accuracy_score\n",
        "print(classification_report(y_test,y_preds))"
      ],
      "execution_count": 32,
      "outputs": [
        {
          "output_type": "stream",
          "text": [
            "              precision    recall  f1-score   support\n",
            "\n",
            "           0       0.87      0.99      0.93       732\n",
            "           1       0.58      0.06      0.11       116\n",
            "\n",
            "    accuracy                           0.87       848\n",
            "   macro avg       0.73      0.53      0.52       848\n",
            "weighted avg       0.83      0.87      0.82       848\n",
            "\n"
          ],
          "name": "stdout"
        }
      ]
    },
    {
      "cell_type": "code",
      "metadata": {
        "id": "fY1ELjNn0CoT",
        "colab_type": "code",
        "colab": {
          "base_uri": "https://localhost:8080/",
          "height": 51
        },
        "outputId": "31618dd4-b85e-4bcd-9ae7-f9c3e03625ef"
      },
      "source": [
        "confusion_matrix(y_test,y_preds)"
      ],
      "execution_count": 33,
      "outputs": [
        {
          "output_type": "execute_result",
          "data": {
            "text/plain": [
              "array([[727,   5],\n",
              "       [109,   7]])"
            ]
          },
          "metadata": {
            "tags": []
          },
          "execution_count": 33
        }
      ]
    },
    {
      "cell_type": "code",
      "metadata": {
        "id": "NMwqxOIj0CoX",
        "colab_type": "code",
        "colab": {
          "base_uri": "https://localhost:8080/",
          "height": 34
        },
        "outputId": "afdb7a65-c8d0-46ae-c64a-57806d1b6136"
      },
      "source": [
        "accuracy_score(y_test,y_preds)"
      ],
      "execution_count": 34,
      "outputs": [
        {
          "output_type": "execute_result",
          "data": {
            "text/plain": [
              "0.8655660377358491"
            ]
          },
          "metadata": {
            "tags": []
          },
          "execution_count": 34
        }
      ]
    },
    {
      "cell_type": "code",
      "metadata": {
        "id": "LNhW7OPV0Coa",
        "colab_type": "code",
        "colab": {
          "base_uri": "https://localhost:8080/",
          "height": 1000
        },
        "outputId": "4a926872-559c-4b96-91a4-6314ceb68fc7"
      },
      "source": [
        "# 5. improve model\n",
        "\n",
        "# try different amount of n_estimators\n",
        "\n",
        "np.random.seed(42)\n",
        "\n",
        "for i in range (10,100,10):\n",
        "    print(f\"Trying model with {i} estimators.....\")\n",
        "    model = LogisticRegression().fit(X_train,y_train)\n",
        "    print(f\"Model Accuracy on test set: {model.score(X_test,y_test) * 100:.2f}%\")"
      ],
      "execution_count": 36,
      "outputs": [
        {
          "output_type": "stream",
          "text": [
            "Trying model with 10 estimators.....\n",
            "Model Accuracy on test set: 86.08%\n",
            "Trying model with 20 estimators.....\n",
            "Model Accuracy on test set: 86.08%\n",
            "Trying model with 30 estimators.....\n"
          ],
          "name": "stdout"
        },
        {
          "output_type": "stream",
          "text": [
            "/usr/local/lib/python3.6/dist-packages/sklearn/linear_model/_logistic.py:940: ConvergenceWarning: lbfgs failed to converge (status=1):\n",
            "STOP: TOTAL NO. of ITERATIONS REACHED LIMIT.\n",
            "\n",
            "Increase the number of iterations (max_iter) or scale the data as shown in:\n",
            "    https://scikit-learn.org/stable/modules/preprocessing.html\n",
            "Please also refer to the documentation for alternative solver options:\n",
            "    https://scikit-learn.org/stable/modules/linear_model.html#logistic-regression\n",
            "  extra_warning_msg=_LOGISTIC_SOLVER_CONVERGENCE_MSG)\n",
            "/usr/local/lib/python3.6/dist-packages/sklearn/linear_model/_logistic.py:940: ConvergenceWarning: lbfgs failed to converge (status=1):\n",
            "STOP: TOTAL NO. of ITERATIONS REACHED LIMIT.\n",
            "\n",
            "Increase the number of iterations (max_iter) or scale the data as shown in:\n",
            "    https://scikit-learn.org/stable/modules/preprocessing.html\n",
            "Please also refer to the documentation for alternative solver options:\n",
            "    https://scikit-learn.org/stable/modules/linear_model.html#logistic-regression\n",
            "  extra_warning_msg=_LOGISTIC_SOLVER_CONVERGENCE_MSG)\n",
            "/usr/local/lib/python3.6/dist-packages/sklearn/linear_model/_logistic.py:940: ConvergenceWarning: lbfgs failed to converge (status=1):\n",
            "STOP: TOTAL NO. of ITERATIONS REACHED LIMIT.\n",
            "\n",
            "Increase the number of iterations (max_iter) or scale the data as shown in:\n",
            "    https://scikit-learn.org/stable/modules/preprocessing.html\n",
            "Please also refer to the documentation for alternative solver options:\n",
            "    https://scikit-learn.org/stable/modules/linear_model.html#logistic-regression\n",
            "  extra_warning_msg=_LOGISTIC_SOLVER_CONVERGENCE_MSG)\n"
          ],
          "name": "stderr"
        },
        {
          "output_type": "stream",
          "text": [
            "Model Accuracy on test set: 86.08%\n",
            "Trying model with 40 estimators.....\n",
            "Model Accuracy on test set: 86.08%\n",
            "Trying model with 50 estimators.....\n",
            "Model Accuracy on test set: 86.08%\n",
            "Trying model with 60 estimators.....\n"
          ],
          "name": "stdout"
        },
        {
          "output_type": "stream",
          "text": [
            "/usr/local/lib/python3.6/dist-packages/sklearn/linear_model/_logistic.py:940: ConvergenceWarning: lbfgs failed to converge (status=1):\n",
            "STOP: TOTAL NO. of ITERATIONS REACHED LIMIT.\n",
            "\n",
            "Increase the number of iterations (max_iter) or scale the data as shown in:\n",
            "    https://scikit-learn.org/stable/modules/preprocessing.html\n",
            "Please also refer to the documentation for alternative solver options:\n",
            "    https://scikit-learn.org/stable/modules/linear_model.html#logistic-regression\n",
            "  extra_warning_msg=_LOGISTIC_SOLVER_CONVERGENCE_MSG)\n",
            "/usr/local/lib/python3.6/dist-packages/sklearn/linear_model/_logistic.py:940: ConvergenceWarning: lbfgs failed to converge (status=1):\n",
            "STOP: TOTAL NO. of ITERATIONS REACHED LIMIT.\n",
            "\n",
            "Increase the number of iterations (max_iter) or scale the data as shown in:\n",
            "    https://scikit-learn.org/stable/modules/preprocessing.html\n",
            "Please also refer to the documentation for alternative solver options:\n",
            "    https://scikit-learn.org/stable/modules/linear_model.html#logistic-regression\n",
            "  extra_warning_msg=_LOGISTIC_SOLVER_CONVERGENCE_MSG)\n",
            "/usr/local/lib/python3.6/dist-packages/sklearn/linear_model/_logistic.py:940: ConvergenceWarning: lbfgs failed to converge (status=1):\n",
            "STOP: TOTAL NO. of ITERATIONS REACHED LIMIT.\n",
            "\n",
            "Increase the number of iterations (max_iter) or scale the data as shown in:\n",
            "    https://scikit-learn.org/stable/modules/preprocessing.html\n",
            "Please also refer to the documentation for alternative solver options:\n",
            "    https://scikit-learn.org/stable/modules/linear_model.html#logistic-regression\n",
            "  extra_warning_msg=_LOGISTIC_SOLVER_CONVERGENCE_MSG)\n"
          ],
          "name": "stderr"
        },
        {
          "output_type": "stream",
          "text": [
            "Model Accuracy on test set: 86.08%\n",
            "Trying model with 70 estimators.....\n",
            "Model Accuracy on test set: 86.08%\n",
            "Trying model with 80 estimators.....\n"
          ],
          "name": "stdout"
        },
        {
          "output_type": "stream",
          "text": [
            "/usr/local/lib/python3.6/dist-packages/sklearn/linear_model/_logistic.py:940: ConvergenceWarning: lbfgs failed to converge (status=1):\n",
            "STOP: TOTAL NO. of ITERATIONS REACHED LIMIT.\n",
            "\n",
            "Increase the number of iterations (max_iter) or scale the data as shown in:\n",
            "    https://scikit-learn.org/stable/modules/preprocessing.html\n",
            "Please also refer to the documentation for alternative solver options:\n",
            "    https://scikit-learn.org/stable/modules/linear_model.html#logistic-regression\n",
            "  extra_warning_msg=_LOGISTIC_SOLVER_CONVERGENCE_MSG)\n",
            "/usr/local/lib/python3.6/dist-packages/sklearn/linear_model/_logistic.py:940: ConvergenceWarning: lbfgs failed to converge (status=1):\n",
            "STOP: TOTAL NO. of ITERATIONS REACHED LIMIT.\n",
            "\n",
            "Increase the number of iterations (max_iter) or scale the data as shown in:\n",
            "    https://scikit-learn.org/stable/modules/preprocessing.html\n",
            "Please also refer to the documentation for alternative solver options:\n",
            "    https://scikit-learn.org/stable/modules/linear_model.html#logistic-regression\n",
            "  extra_warning_msg=_LOGISTIC_SOLVER_CONVERGENCE_MSG)\n"
          ],
          "name": "stderr"
        },
        {
          "output_type": "stream",
          "text": [
            "Model Accuracy on test set: 86.08%\n",
            "Trying model with 90 estimators.....\n",
            "Model Accuracy on test set: 86.08%\n"
          ],
          "name": "stdout"
        },
        {
          "output_type": "stream",
          "text": [
            "/usr/local/lib/python3.6/dist-packages/sklearn/linear_model/_logistic.py:940: ConvergenceWarning: lbfgs failed to converge (status=1):\n",
            "STOP: TOTAL NO. of ITERATIONS REACHED LIMIT.\n",
            "\n",
            "Increase the number of iterations (max_iter) or scale the data as shown in:\n",
            "    https://scikit-learn.org/stable/modules/preprocessing.html\n",
            "Please also refer to the documentation for alternative solver options:\n",
            "    https://scikit-learn.org/stable/modules/linear_model.html#logistic-regression\n",
            "  extra_warning_msg=_LOGISTIC_SOLVER_CONVERGENCE_MSG)\n"
          ],
          "name": "stderr"
        }
      ]
    },
    {
      "cell_type": "code",
      "metadata": {
        "id": "7qrQkXiL0Coc",
        "colab_type": "code",
        "colab": {
          "base_uri": "https://localhost:8080/",
          "height": 323
        },
        "outputId": "0089a2c7-b35f-477a-e63f-654406d5d49a"
      },
      "source": [
        "from sklearn.metrics import roc_curve\n",
        "\n",
        "# Fit the classifier\n",
        "model.fit(X_train, y_train)\n",
        "\n",
        "# Make predictions with probabilities\n",
        "\n",
        "y_probs = model.predict_proba(X_test)\n",
        "\n",
        "y_probs[:10], len(y_probs)"
      ],
      "execution_count": 37,
      "outputs": [
        {
          "output_type": "stream",
          "text": [
            "/usr/local/lib/python3.6/dist-packages/sklearn/linear_model/_logistic.py:940: ConvergenceWarning: lbfgs failed to converge (status=1):\n",
            "STOP: TOTAL NO. of ITERATIONS REACHED LIMIT.\n",
            "\n",
            "Increase the number of iterations (max_iter) or scale the data as shown in:\n",
            "    https://scikit-learn.org/stable/modules/preprocessing.html\n",
            "Please also refer to the documentation for alternative solver options:\n",
            "    https://scikit-learn.org/stable/modules/linear_model.html#logistic-regression\n",
            "  extra_warning_msg=_LOGISTIC_SOLVER_CONVERGENCE_MSG)\n"
          ],
          "name": "stderr"
        },
        {
          "output_type": "execute_result",
          "data": {
            "text/plain": [
              "(array([[0.89289856, 0.10710144],\n",
              "        [0.87381777, 0.12618223],\n",
              "        [0.652345  , 0.347655  ],\n",
              "        [0.86537031, 0.13462969],\n",
              "        [0.73033366, 0.26966634],\n",
              "        [0.95119915, 0.04880085],\n",
              "        [0.90309026, 0.09690974],\n",
              "        [0.65327817, 0.34672183],\n",
              "        [0.83349144, 0.16650856],\n",
              "        [0.92098778, 0.07901222]]), 848)"
            ]
          },
          "metadata": {
            "tags": []
          },
          "execution_count": 37
        }
      ]
    },
    {
      "cell_type": "code",
      "metadata": {
        "id": "9OE2HM3G0Cof",
        "colab_type": "code",
        "colab": {
          "base_uri": "https://localhost:8080/",
          "height": 51
        },
        "outputId": "459b19f8-ac99-4e4b-9027-b9b158f19330"
      },
      "source": [
        "y_probs_positive = y_probs[:, 1]\n",
        "y_probs_positive[:10]"
      ],
      "execution_count": 38,
      "outputs": [
        {
          "output_type": "execute_result",
          "data": {
            "text/plain": [
              "array([0.10710144, 0.12618223, 0.347655  , 0.13462969, 0.26966634,\n",
              "       0.04880085, 0.09690974, 0.34672183, 0.16650856, 0.07901222])"
            ]
          },
          "metadata": {
            "tags": []
          },
          "execution_count": 38
        }
      ]
    },
    {
      "cell_type": "code",
      "metadata": {
        "id": "o63qXgoE0Coi",
        "colab_type": "code",
        "colab": {
          "base_uri": "https://localhost:8080/",
          "height": 663
        },
        "outputId": "e20da64e-a545-431a-e0b3-fb66637a276d"
      },
      "source": [
        "# Caculate fpr, tpr and thresholds\n",
        "fpr, tpr, thresholds = roc_curve(y_test, y_probs_positive)\n",
        "\n",
        "# Check the false positive rates\n",
        "fpr"
      ],
      "execution_count": 39,
      "outputs": [
        {
          "output_type": "execute_result",
          "data": {
            "text/plain": [
              "array([0.        , 0.        , 0.00409836, 0.00409836, 0.0068306 ,\n",
              "       0.0068306 , 0.01229508, 0.01229508, 0.0136612 , 0.0136612 ,\n",
              "       0.02185792, 0.02185792, 0.02868852, 0.02868852, 0.03142077,\n",
              "       0.03142077, 0.03825137, 0.03825137, 0.04371585, 0.04371585,\n",
              "       0.06284153, 0.06284153, 0.06420765, 0.06420765, 0.06967213,\n",
              "       0.06967213, 0.07377049, 0.07377049, 0.07513661, 0.07513661,\n",
              "       0.08606557, 0.08606557, 0.08743169, 0.08743169, 0.09153005,\n",
              "       0.09153005, 0.09836066, 0.09836066, 0.11065574, 0.11065574,\n",
              "       0.11202186, 0.11202186, 0.11612022, 0.11612022, 0.11748634,\n",
              "       0.11748634, 0.14344262, 0.14344262, 0.15437158, 0.15437158,\n",
              "       0.16530055, 0.16530055, 0.16666667, 0.16666667, 0.17076503,\n",
              "       0.17076503, 0.17349727, 0.17349727, 0.18169399, 0.18169399,\n",
              "       0.18306011, 0.18306011, 0.21174863, 0.21174863, 0.21448087,\n",
              "       0.21448087, 0.21721311, 0.21721311, 0.21857923, 0.21857923,\n",
              "       0.22540984, 0.22540984, 0.24590164, 0.24590164, 0.25273224,\n",
              "       0.25273224, 0.25546448, 0.25546448, 0.25819672, 0.25819672,\n",
              "       0.26229508, 0.26229508, 0.26502732, 0.26502732, 0.2704918 ,\n",
              "       0.2704918 , 0.28005464, 0.28005464, 0.29098361, 0.29098361,\n",
              "       0.29234973, 0.29234973, 0.31147541, 0.31147541, 0.31967213,\n",
              "       0.31967213, 0.33196721, 0.33196721, 0.3442623 , 0.3442623 ,\n",
              "       0.34836066, 0.34836066, 0.3510929 , 0.3510929 , 0.36338798,\n",
              "       0.36338798, 0.36748634, 0.36748634, 0.38114754, 0.38114754,\n",
              "       0.38387978, 0.38387978, 0.39344262, 0.39344262, 0.39754098,\n",
              "       0.39754098, 0.42486339, 0.42486339, 0.43032787, 0.43032787,\n",
              "       0.44398907, 0.44398907, 0.4726776 , 0.4726776 , 0.48360656,\n",
              "       0.48360656, 0.49453552, 0.49453552, 0.51775956, 0.51775956,\n",
              "       0.5204918 , 0.5204918 , 0.53278689, 0.53278689, 0.58879781,\n",
              "       0.58879781, 0.59836066, 0.59836066, 0.60382514, 0.60382514,\n",
              "       0.66256831, 0.66256831, 0.66530055, 0.66530055, 0.70081967,\n",
              "       0.70081967, 0.72540984, 0.72540984, 0.72814208, 0.72814208,\n",
              "       0.73497268, 0.73497268, 0.74453552, 0.74453552, 0.78825137,\n",
              "       0.78825137, 0.79371585, 0.79371585, 0.79644809, 0.79644809,\n",
              "       0.80327869, 0.80327869, 0.81967213, 0.81967213, 0.84016393,\n",
              "       0.84016393, 0.84562842, 0.84562842, 0.8510929 , 0.8510929 ,\n",
              "       0.85245902, 0.85245902, 0.8579235 , 0.8579235 , 0.88114754,\n",
              "       0.88114754, 0.89071038, 0.89071038, 0.92759563, 0.92759563,\n",
              "       0.92896175, 0.92896175, 0.94125683, 0.94125683, 0.9795082 ,\n",
              "       0.9795082 , 1.        ])"
            ]
          },
          "metadata": {
            "tags": []
          },
          "execution_count": 39
        }
      ]
    },
    {
      "cell_type": "code",
      "metadata": {
        "id": "4_cSg1-k0Con",
        "colab_type": "code",
        "colab": {
          "base_uri": "https://localhost:8080/",
          "height": 295
        },
        "outputId": "227aa509-2f76-49cf-cca1-34d1f4e21453"
      },
      "source": [
        "# Create a function for plotting ROC curves\n",
        "import matplotlib.pyplot as plt\n",
        "\n",
        "def plot_roc_curve(fpr, tpr):\n",
        "    \"\"\"\n",
        "    Plots a ROC curve given the false positive rate (fpr)\n",
        "    and true positive rate (tpr) of a model.\n",
        "    \"\"\"\n",
        "    # Plot roc curve\n",
        "    plt.plot(fpr, tpr, color=\"orange\", label=\"ROC = 0.63\")\n",
        "    # Plot line with no predictive power (baseline)\n",
        "    #plt.plot([0, 1], [0, 1], color=\"darkblue\", linestyle=\"--\", label=\"Guessing\")\n",
        "    \n",
        "    # Customize the plot\n",
        "    plt.xlabel(\"False positive rate (fpr)\")\n",
        "    plt.ylabel(\"True positive rate (tpr)\")\n",
        "    plt.title(\"Receiver Operating Characteristic (ROC) Curve\")\n",
        "    plt.legend()\n",
        "    plt.show()\n",
        "\n",
        "plot_roc_curve(fpr, tpr)"
      ],
      "execution_count": 42,
      "outputs": [
        {
          "output_type": "display_data",
          "data": {
            "image/png": "[encoded data removed]",
            "text/plain": [
              "<Figure size 432x288 with 1 Axes>"
            ]
          },
          "metadata": {
            "tags": [],
            "needs_background": "light"
          }
        }
      ]
    },
    {
      "cell_type": "code",
      "metadata": {
        "id": "0VctrADI0Cor",
        "colab_type": "code",
        "colab": {
          "base_uri": "https://localhost:8080/",
          "height": 34
        },
        "outputId": "f334051f-3233-479c-ef35-3b1468208cf3"
      },
      "source": [
        "from sklearn.metrics import roc_auc_score\n",
        "roc_auc_score(y_test, y_probs_positive)"
      ],
      "execution_count": 41,
      "outputs": [
        {
          "output_type": "execute_result",
          "data": {
            "text/plain": [
              "0.6321014697569249"
            ]
          },
          "metadata": {
            "tags": []
          },
          "execution_count": 41
        }
      ]
    },
    {
      "cell_type": "code",
      "metadata": {
        "id": "0YFa41be0Cov",
        "colab_type": "code",
        "colab": {}
      },
      "source": [
        ""
      ],
      "execution_count": 0,
      "outputs": []
    }
  ]
}